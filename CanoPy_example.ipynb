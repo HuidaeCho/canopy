{
 "cells": [
  {
   "cell_type": "markdown",
   "metadata": {},
   "source": [
    "# CanoPy Example\n",
    "\n",
    "Below is an example of how CanoPy operates using the new version.\n",
    "\n",
    "Source code can be found in the offical [GitHub repo](https://github.com/HuidaeCho/canopy)\n",
    "\n",
    "Documentation and sample data can be found at [GisLab - CanoPy](https://gislab.isnew.info/canopy/start)\n",
    "\n",
    "---\n"
   ]
  },
  {
   "cell_type": "markdown",
   "metadata": {},
   "source": [
    "Within the ArcGIS python environment CanoPy must be added to the path first in order for the python environment to find the module."
   ]
  },
  {
   "cell_type": "code",
   "execution_count": 1,
   "metadata": {},
   "outputs": [],
   "source": [
    "import sys\n",
    "import time\n",
    "sys.path.append(r\"C:\\Research\\GFC\\canopy\")\n",
    "from canopy import Canopy"
   ]
  },
  {
   "cell_type": "markdown",
   "metadata": {},
   "source": [
    "CanoPy can then be initialized with a variable that will store all the configuration parameters that are needed. If no .cfg file is found with the name that is input, a new config file will be generated using the template provided."
   ]
  },
  {
   "cell_type": "code",
   "execution_count": 14,
   "metadata": {},
   "outputs": [],
   "source": [
    "c = Canopy(\"D:\\GFC\\GFC 2019\\canopy_config\")"
   ]
  },
  {
   "cell_type": "markdown",
   "metadata": {},
   "source": [
    "Below prints the documentation provided in the Canopy class"
   ]
  },
  {
   "cell_type": "code",
   "execution_count": 15,
   "metadata": {
    "scrolled": true
   },
   "outputs": [
    {
     "name": "stdout",
     "output_type": "stream",
     "text": [
      "Help on class Canopy in module canopy.canopy:\n",
      "\n",
      "class Canopy(builtins.object)\n",
      " |  Object to effectively manage the configuration of CanoPy and run\n",
      " |  the processing functions created.\n",
      " |  \n",
      " |  Attributes\n",
      " |  ----------\n",
      " |  config : str\n",
      " |      Path for initialized configuration file.\n",
      " |  phyregs_layer : str\n",
      " |      Layer containing polygon features for all physiographic regions.\n",
      " |  phyregs_area_sqkm_field : str\n",
      " |      Field name for computed area.\n",
      " |  naipqq_layer : str\n",
      " |      Name of the NAIP QQ feature layer.\n",
      " |  naipqq_phyregs_field : str\n",
      " |      Field name to make NAIP QQ's queryable based on physiographic\n",
      " |      region.\n",
      " |  naip_path : str\n",
      " |      Path to NAIP directory\n",
      " |  spatref_wkid : int\n",
      " |      WKID specifies the target spatial reference for all output files.\n",
      " |  snaprast_path : str\n",
      " |      This input/output raster is used to snap NAIP tiles to a\n",
      " |      consistent grid system. If this file does not already exist, the\n",
      " |      filename part of snaprast_path must be 'r' + the filename of an\n",
      " |      existing original NAIP tile so that reproject_input_tiles() can\n",
      " |      automatically create it based on the folder structure of the\n",
      " |      NAIP imagery data (naip_path).\n",
      " |  snaprast_path_1m : str\n",
      " |      The same as 'snaprast_path' but to snap newer NAIP data with\n",
      " |      higher spatial resolutions to the previous years grids for\n",
      " |      proper comparison. This path must be of raster with a previous\n",
      " |      years 1m grid if the original data is less than 1m in resolution.\n",
      " |  snap_grid_1m : bool\n",
      " |      Boolean which determines whether or not to snap to the previous\n",
      " |      years grids.\n",
      " |  results_path : str\n",
      " |      Folder which will contain all outputs.\n",
      " |  analysis_year : int\n",
      " |      Specifies which year is being analyzed.\n",
      " |  phyreg_ids : list\n",
      " |      List of phyreg ids to process.\n",
      " |  \n",
      " |  Methods\n",
      " |  -------\n",
      " |  gen_cfg(config_path):\n",
      " |      Generates a template configuration file at the specified location.\n",
      " |  reload_cfg():\n",
      " |      Allows the Canopy attributes from the configuration file to be\n",
      " |      reloaded if the file has been changed.\n",
      " |  regions(phyregs):\n",
      " |      Adds the desired regions to self.phyreg_ids\n",
      " |  calculate_row_column(xy, rast_ext, rast_res):\n",
      " |      Calculates array row and column using x, y, extent, and\n",
      " |      resolution.\n",
      " |  assign_phyregs_to_naipqq():\n",
      " |      Adds the phyregs field to the NAIP QQ shapefile and\n",
      " |      populates it with physiographic region IDs that intersect each NAIP\n",
      " |      tile.\n",
      " |  reproject_naip_tiles():\n",
      " |      Function reprojects and snaps the NAIP tiles that intersect\n",
      " |      selected physiographic regions.\n",
      " |  convert_afe_to_final_tiles():\n",
      " |      Converts AFE outputs to final TIFF files.\n",
      " |  clip_final_tiles():\n",
      " |      Clips final TIFF files.\n",
      " |  mosaic_clipped_final_tiles():\n",
      " |      Mosaics clipped final TIFF files and clips mosaicked files\n",
      " |      to physiographic regions.\n",
      " |  convert_afe_to_canopy_tif():\n",
      " |      A wrapper function that converts AFE outputs to the\n",
      " |      final canopy TIFF file by invoking convert_afe_to_final_tiles(),\n",
      " |      clip_final_tiles(), and mosaic_clipped_final_tiles() in the correct\n",
      " |      order.\n",
      " |  correct_inverted_canopy_tif(inverted_phyreg_ids):\n",
      " |      Corrects the values of mosaikced and clipped regions that\n",
      " |      have been inverted.\n",
      " |  convert_canopy_tif_to_shp():\n",
      " |      Converts the canopy TIFF files to shapefile.\n",
      " |  generate_gtpoints(phyreg_ids, min_area_sqkm, max_area_sqkm, min_points,\n",
      " |                    max_points):\n",
      " |      Generates randomized points for ground truthing.\n",
      " |  update_gtpoints(self, old_points, phyreg_ids)\n",
      " |      Copies a previous years GT points but with the new years GT values.\n",
      " |  add_naip_tiles_for_gt(gtpoints):\n",
      " |      Adds NAIP imagery where a ground truthing point is located.\n",
      " |  \n",
      " |  Methods defined here:\n",
      " |  \n",
      " |  __init__(self, config_path)\n",
      " |      Parameters\n",
      " |      ----------\n",
      " |          config_path : str\n",
      " |              Path which points to the *.cfg path which serve as the\n",
      " |              configuration for CanoPy. If one does not exist it will be\n",
      " |              automatically generated using the template configuration.\n",
      " |  \n",
      " |  add_naip_tiles_for_gt(self, gtpoints)\n",
      " |      This function adds NAIP imagery where a ground truthing point is located\n",
      " |      into an arcgis project. Imagery is saved as a temporary layer.\n",
      " |      Functional in both ArcMap & ArcGIS Pro.\n",
      " |      \n",
      " |      Parameters\n",
      " |      ----------\n",
      " |      gtpoints : str\n",
      " |          name of ground truthing points shapefile to add NAIP based off\n",
      " |  \n",
      " |  assign_phyregs_to_naipqq(self)\n",
      " |      This function adds the phyregs field to the NAIP QQ shapefile and\n",
      " |      populates it with physiographic region IDs that intersect each NAIP\n",
      " |      tile. This function needs to be run only once, but running it multiple\n",
      " |      times would not hurt either other than wasting computational resources.\n",
      " |  \n",
      " |  calculate_row_column(self, xy, rast_ext, rast_res)\n",
      " |      This function calculates array row and column using x, y, extent, and\n",
      " |      resolution.\n",
      " |      \n",
      " |      Parameters\n",
      " |      ----------\n",
      " |          xy : list, tuple\n",
      " |              (x, y) coordinates\n",
      " |          rast_ext :\n",
      " |              raster extent\n",
      " |          rast_res : list, tuple\n",
      " |              (width, height) raster resolution\n",
      " |      \n",
      " |      Returns\n",
      " |      -------\n",
      " |          row, col\n",
      " |  \n",
      " |  clip_final_tiles(self)\n",
      " |      This function clips final TIFF files.\n",
      " |  \n",
      " |  convert_afe_to_canopy_tif(self)\n",
      " |      This function is a wrapper function that converts AFE outputs to the\n",
      " |      final canopy TIFF file by invoking convert_afe_to_final_tiles(),\n",
      " |      clip_final_tiles(), and mosaic_clipped_final_tiles() in the correct\n",
      " |      order.\n",
      " |  \n",
      " |  convert_afe_to_final_tiles(self)\n",
      " |      This function converts AFE outputs to final TIFF files.\n",
      " |  \n",
      " |  convert_canopy_tif_to_shp(self)\n",
      " |      This function converts the canopy TIFF files to shapefile. If a region\n",
      " |      has been corrected for inverted values the function will convert the\n",
      " |      corrected TIFF to shapefile instead of the original canopy TIFF. If no\n",
      " |      corrected TIFF exists for a region then the original canopy TIFF will be\n",
      " |      converted.\n",
      " |  \n",
      " |  correct_inverted_canopy_tif(self, inverted_phyreg_ids)\n",
      " |      This function corrects the values of mosaikced and clipped regions that\n",
      " |      have been inverted with values canopy 0 and noncanopy 1, and changes\n",
      " |      them to canopy 1 and noncanopy 0.\n",
      " |      \n",
      " |      Parameters\n",
      " |      ----------\n",
      " |          inverted_phyreg_ids : list\n",
      " |              list of physiographic region IDs to process\n",
      " |  \n",
      " |  gen_cfg(self, config_path)\n",
      " |      Generates a template configuration file at the specified location.\n",
      " |      \n",
      " |      Parameters\n",
      " |      ----------\n",
      " |          config_path : str\n",
      " |  \n",
      " |  generate_gtpoints(self, phyreg_ids, min_area_sqkm, max_area_sqkm, min_points, max_points)\n",
      " |      This function generates randomized points for ground truthing. It create\n",
      " |      the GT field in the output shapefile.\n",
      " |      \n",
      " |      Parameters\n",
      " |      ----------\n",
      " |      phyreg_ids : list\n",
      " |          list of physiographic region IDs to process\n",
      " |      min_area_sqkm : float\n",
      " |          miminum area in square kilometers\n",
      " |      max_area_sqkm : float\n",
      " |          maximum area in square kilometers\n",
      " |      min_points : int\n",
      " |          minimum number of points allowed\n",
      " |      max_points : int\n",
      " |          maximum number of points allowed\n",
      " |  \n",
      " |  mosaic_clipped_final_tiles(self)\n",
      " |      This function mosaics clipped final TIFF files and clips mosaicked files\n",
      " |      to physiographic regions.\n",
      " |  \n",
      " |  regions(self, phyregs)\n",
      " |      Adds the desired regions to be generated.\n",
      " |      \n",
      " |      Parameters\n",
      " |      ----------\n",
      " |          phyregs : list\n",
      " |              List of physiographic region id's to be processed with CanoPy.\n",
      " |  \n",
      " |  reload_cfg(self)\n",
      " |      Updates the configuration parameters within the Canopy object if changes\n",
      " |      have been made to the *.cfg file. This allows for changes to be made to\n",
      " |      the overall configuration with out the object or the python environment\n",
      " |      having to be reinitalized.\n",
      " |  \n",
      " |  reproject_naip_tiles(self)\n",
      " |      This function reprojects and snaps the NAIP tiles that intersect\n",
      " |      selected physiographic regions.\n",
      " |  \n",
      " |  update_gtpoints(self, old_points, phyreg_ids)\n",
      " |      This function copies a previous years GT points and copies the\n",
      " |      points but with the new years GT values. It addtionally corrects the\n",
      " |      values if they are within an inverted region.\n",
      " |      \n",
      " |      Parameters\n",
      " |      ----------\n",
      " |      old_points : str\n",
      " |          Layer name for the previous years points\n",
      " |      phyreg_ids : list\n",
      " |          list of physiographic region IDs to process\n",
      " |  \n",
      " |  ----------------------------------------------------------------------\n",
      " |  Data descriptors defined here:\n",
      " |  \n",
      " |  __dict__\n",
      " |      dictionary for instance variables (if defined)\n",
      " |  \n",
      " |  __weakref__\n",
      " |      list of weak references to the object (if defined)\n"
     ]
    },
    {
     "name": "stdout",
     "output_type": "stream",
     "text": [
      "\n"
     ]
    }
   ],
   "source": [
    "help(Canopy)"
   ]
  },
  {
   "cell_type": "markdown",
   "metadata": {},
   "source": [
    "Below shows some configuration parameters read by the Canopy class."
   ]
  },
  {
   "cell_type": "code",
   "execution_count": 13,
   "metadata": {},
   "outputs": [
    {
     "name": "stdout",
     "output_type": "stream",
     "text": [
      "Physical regions layer name:                  Physiographic_Districts_GA_R\n",
      "NAIP QQ layer name:                           NAIP_19_GA\n",
      "NAIP dir path:                                D:/NAIP/2019/ga_60cm_2019\n",
      "Snapraster path:                              D:/GFC/GFC 2019/2019 Analysis/Data/m_3108322_ne_17_060_20191101.tif\n",
      "1m snapraster path:                           D:/GFC/GFC 2019/2019 Analysis/Data/rm_3408504_nw_16_1_20090824.tif\n",
      "Path where all results are saved to disk:     D:/GFC/GFC 2019/2019 Analysis/Results\n"
     ]
    }
   ],
   "source": [
    "print('Physical regions layer name:                  {}'.format(c.phyregs_layer))\n",
    "print('NAIP QQ layer name:                           {}'.format(c.naipqq_layer))\n",
    "print('NAIP dir path:                                {}'.format(c.naip_path))\n",
    "print('Snapraster path:                              {}'.format(c.snaprast_path))\n",
    "print('1m snapraster path:                           {}'.format(c.snaprast_path_1m))\n",
    "print('Path where all results are saved to disk:     {}'.format(c.results_path))"
   ]
  },
  {
   "cell_type": "markdown",
   "metadata": {},
   "source": [
    "Add the wanted region ids"
   ]
  },
  {
   "cell_type": "code",
   "execution_count": 3,
   "metadata": {},
   "outputs": [],
   "source": [
    "c.regions([5])"
   ]
  },
  {
   "cell_type": "markdown",
   "metadata": {},
   "source": [
    "Run the wanted process"
   ]
  },
  {
   "cell_type": "code",
   "execution_count": 4,
   "metadata": {
    "scrolled": false
   },
   "outputs": [
    {
     "name": "stdout",
     "output_type": "stream",
     "text": [
      "Armuchee Ridges\n",
      "Completed\n",
      "--- 2618.43186712265 seconds ---\n"
     ]
    }
   ],
   "source": [
    "start_time = time.time()\n",
    "c.reproject_naip_tiles()\n",
    "print(\"--- %s seconds ---\" % (time.time() - start_time))"
   ]
  }
 ],
 "metadata": {
  "kernelspec": {
   "display_name": "ArcGISPro",
   "language": "Python",
   "name": "python3"
  },
  "language_info": {
   "file_extension": ".py",
   "name": "python",
   "version": "3"
  }
 },
 "nbformat": 4,
 "nbformat_minor": 2
}
